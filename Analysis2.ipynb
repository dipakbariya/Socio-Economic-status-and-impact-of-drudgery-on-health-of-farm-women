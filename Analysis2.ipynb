{
 "cells": [
  {
   "cell_type": "code",
   "execution_count": 1,
   "metadata": {},
   "outputs": [],
   "source": [
    "import pandas as pd\n",
    "import numpy as np\n",
    "import matplotlib.pyplot as plt\n",
    "import random as rd\n",
    "import matplotlib.pyplot as plt"
   ]
  },
  {
   "cell_type": "code",
   "execution_count": 2,
   "metadata": {},
   "outputs": [],
   "source": [
    "data=pd.read_excel(r\"C:\\Users\\dipak.D\\Documents\\MSC\\MSC_SEM_4\\Project\\DATA3.xlsx\")"
   ]
  },
  {
   "cell_type": "code",
   "execution_count": 3,
   "metadata": {
    "scrolled": true
   },
   "outputs": [
    {
     "data": {
      "text/html": [
       "<div>\n",
       "<style scoped>\n",
       "    .dataframe tbody tr th:only-of-type {\n",
       "        vertical-align: middle;\n",
       "    }\n",
       "\n",
       "    .dataframe tbody tr th {\n",
       "        vertical-align: top;\n",
       "    }\n",
       "\n",
       "    .dataframe thead th {\n",
       "        text-align: right;\n",
       "    }\n",
       "</style>\n",
       "<table border=\"1\" class=\"dataframe\">\n",
       "  <thead>\n",
       "    <tr style=\"text-align: right;\">\n",
       "      <th></th>\n",
       "      <th>Name</th>\n",
       "      <th>Q1</th>\n",
       "      <th>Q2</th>\n",
       "      <th>Q3</th>\n",
       "      <th>Q3_1</th>\n",
       "      <th>Q3_2</th>\n",
       "      <th>Q3_3</th>\n",
       "      <th>Q3_4</th>\n",
       "      <th>Q3_5</th>\n",
       "      <th>Q3_6</th>\n",
       "      <th>...</th>\n",
       "      <th>Q14_10</th>\n",
       "      <th>Q15_10</th>\n",
       "      <th>Q16_10</th>\n",
       "      <th>S1</th>\n",
       "      <th>S2</th>\n",
       "      <th>S3</th>\n",
       "      <th>S4</th>\n",
       "      <th>S5</th>\n",
       "      <th>S6</th>\n",
       "      <th>S7</th>\n",
       "    </tr>\n",
       "  </thead>\n",
       "  <tbody>\n",
       "    <tr>\n",
       "      <th>0</th>\n",
       "      <td>Shonuben nileshbhai bariya</td>\n",
       "      <td>45</td>\n",
       "      <td>4</td>\n",
       "      <td>Job Housewife  Independent Profession</td>\n",
       "      <td>0</td>\n",
       "      <td>1</td>\n",
       "      <td>0</td>\n",
       "      <td>0</td>\n",
       "      <td>1</td>\n",
       "      <td>0</td>\n",
       "      <td>...</td>\n",
       "      <td>2</td>\n",
       "      <td>NaN</td>\n",
       "      <td>3</td>\n",
       "      <td>43.333333</td>\n",
       "      <td>50.000000</td>\n",
       "      <td>48.888889</td>\n",
       "      <td>24.444444</td>\n",
       "      <td>36.666667</td>\n",
       "      <td>54.444444</td>\n",
       "      <td>24.444444</td>\n",
       "    </tr>\n",
       "    <tr>\n",
       "      <th>1</th>\n",
       "      <td>Tinaben bariya</td>\n",
       "      <td>65</td>\n",
       "      <td>1</td>\n",
       "      <td>Job</td>\n",
       "      <td>0</td>\n",
       "      <td>0</td>\n",
       "      <td>0</td>\n",
       "      <td>0</td>\n",
       "      <td>1</td>\n",
       "      <td>0</td>\n",
       "      <td>...</td>\n",
       "      <td>4</td>\n",
       "      <td>NaN</td>\n",
       "      <td>3</td>\n",
       "      <td>47.777778</td>\n",
       "      <td>53.333333</td>\n",
       "      <td>54.444444</td>\n",
       "      <td>35.555556</td>\n",
       "      <td>30.000000</td>\n",
       "      <td>65.555556</td>\n",
       "      <td>28.888889</td>\n",
       "    </tr>\n",
       "    <tr>\n",
       "      <th>2</th>\n",
       "      <td>Sonal bariya</td>\n",
       "      <td>35</td>\n",
       "      <td>5</td>\n",
       "      <td>Housewife  small businessJob</td>\n",
       "      <td>0</td>\n",
       "      <td>0</td>\n",
       "      <td>0</td>\n",
       "      <td>0</td>\n",
       "      <td>1</td>\n",
       "      <td>1</td>\n",
       "      <td>...</td>\n",
       "      <td>4</td>\n",
       "      <td>NaN</td>\n",
       "      <td>3</td>\n",
       "      <td>65.555556</td>\n",
       "      <td>60.000000</td>\n",
       "      <td>65.555556</td>\n",
       "      <td>47.777778</td>\n",
       "      <td>47.777778</td>\n",
       "      <td>76.666667</td>\n",
       "      <td>34.444444</td>\n",
       "    </tr>\n",
       "    <tr>\n",
       "      <th>3</th>\n",
       "      <td>Gita</td>\n",
       "      <td>83</td>\n",
       "      <td>0</td>\n",
       "      <td>small businessJob</td>\n",
       "      <td>0</td>\n",
       "      <td>0</td>\n",
       "      <td>0</td>\n",
       "      <td>0</td>\n",
       "      <td>1</td>\n",
       "      <td>1</td>\n",
       "      <td>...</td>\n",
       "      <td>2</td>\n",
       "      <td>NaN</td>\n",
       "      <td>3</td>\n",
       "      <td>61.111111</td>\n",
       "      <td>72.222222</td>\n",
       "      <td>77.777778</td>\n",
       "      <td>42.222222</td>\n",
       "      <td>35.555556</td>\n",
       "      <td>72.222222</td>\n",
       "      <td>23.333333</td>\n",
       "    </tr>\n",
       "    <tr>\n",
       "      <th>4</th>\n",
       "      <td>Hemu</td>\n",
       "      <td>35</td>\n",
       "      <td>5</td>\n",
       "      <td>Housewife  Job</td>\n",
       "      <td>0</td>\n",
       "      <td>0</td>\n",
       "      <td>0</td>\n",
       "      <td>0</td>\n",
       "      <td>1</td>\n",
       "      <td>0</td>\n",
       "      <td>...</td>\n",
       "      <td>2</td>\n",
       "      <td>NaN</td>\n",
       "      <td>3</td>\n",
       "      <td>60.000000</td>\n",
       "      <td>53.333333</td>\n",
       "      <td>65.555556</td>\n",
       "      <td>41.111111</td>\n",
       "      <td>34.444444</td>\n",
       "      <td>71.111111</td>\n",
       "      <td>34.444444</td>\n",
       "    </tr>\n",
       "  </tbody>\n",
       "</table>\n",
       "<p>5 rows × 155 columns</p>\n",
       "</div>"
      ],
      "text/plain": [
       "                         Name  Q1  Q2                                     Q3  \\\n",
       "0  Shonuben nileshbhai bariya  45   4  Job Housewife  Independent Profession   \n",
       "1              Tinaben bariya  65   1                                    Job   \n",
       "2                Sonal bariya  35   5           Housewife  small businessJob   \n",
       "3                        Gita  83   0                      small businessJob   \n",
       "4                        Hemu  35   5                         Housewife  Job   \n",
       "\n",
       "   Q3_1  Q3_2  Q3_3  Q3_4  Q3_5  Q3_6  ...  Q14_10  Q15_10  Q16_10         S1  \\\n",
       "0     0     1     0     0     1     0  ...       2     NaN       3  43.333333   \n",
       "1     0     0     0     0     1     0  ...       4     NaN       3  47.777778   \n",
       "2     0     0     0     0     1     1  ...       4     NaN       3  65.555556   \n",
       "3     0     0     0     0     1     1  ...       2     NaN       3  61.111111   \n",
       "4     0     0     0     0     1     0  ...       2     NaN       3  60.000000   \n",
       "\n",
       "          S2         S3         S4         S5         S6         S7  \n",
       "0  50.000000  48.888889  24.444444  36.666667  54.444444  24.444444  \n",
       "1  53.333333  54.444444  35.555556  30.000000  65.555556  28.888889  \n",
       "2  60.000000  65.555556  47.777778  47.777778  76.666667  34.444444  \n",
       "3  72.222222  77.777778  42.222222  35.555556  72.222222  23.333333  \n",
       "4  53.333333  65.555556  41.111111  34.444444  71.111111  34.444444  \n",
       "\n",
       "[5 rows x 155 columns]"
      ]
     },
     "execution_count": 3,
     "metadata": {},
     "output_type": "execute_result"
    }
   ],
   "source": [
    "data.head()"
   ]
  },
  {
   "cell_type": "markdown",
   "metadata": {},
   "source": [
    "## SOCIO_ECONOMIC ANALYSIS"
   ]
  },
  {
   "cell_type": "markdown",
   "metadata": {},
   "source": [
    "### PROPORTION TEST"
   ]
  },
  {
   "cell_type": "markdown",
   "metadata": {},
   "source": [
    "- **H0 : In the population the proportion of farming  and non-farming are same.**\n",
    "- **H1: In the population the proportion of farming  and non-farming are not same.**"
   ]
  },
  {
   "cell_type": "code",
   "execution_count": 35,
   "metadata": {},
   "outputs": [
    {
     "data": {
      "text/plain": [
       "(5.692099788303084, 1.2548647497615055e-08)"
      ]
     },
     "execution_count": 35,
     "metadata": {},
     "output_type": "execute_result"
    }
   ],
   "source": [
    "import statsmodels.stats.proportion as st\n",
    "count=[85,40]\n",
    "nobs=[125,125]\n",
    "st.proportions_ztest(count, nobs, value=None, alternative='two-sided', prop_var=False)"
   ]
  },
  {
   "cell_type": "markdown",
   "metadata": {},
   "source": [
    ">#### p value < alpha, we reject Ho, and conclude that proportion of farming and non-farming are not same for population."
   ]
  },
  {
   "cell_type": "markdown",
   "metadata": {},
   "source": [
    "- **H0 : In the population the proportion no of SHG and Non-SHG group are same.**\n",
    "- **H1: In the population the proportion no of SHG and Non-SHG group are same.**"
   ]
  },
  {
   "cell_type": "code",
   "execution_count": 32,
   "metadata": {},
   "outputs": [
    {
     "data": {
      "text/plain": [
       "(4.680170937049202, 2.8663582940719003e-06)"
      ]
     },
     "execution_count": 32,
     "metadata": {},
     "output_type": "execute_result"
    }
   ],
   "source": [
    "count=[81,44]\n",
    "nobs=[125,125]\n",
    "st.proportions_ztest(count, nobs, value=None, alternative='two-sided', prop_var=False)"
   ]
  },
  {
   "cell_type": "markdown",
   "metadata": {},
   "source": [
    ">#### p value < alpha, we reject Ho, and conclude that proportion of SHG and non-SHG are not same for population."
   ]
  },
  {
   "cell_type": "markdown",
   "metadata": {},
   "source": [
    "- **H0: The proportion of middle class family is 69.60**\n",
    "- **H0: The proportion of middle class family is not 69.60**"
   ]
  },
  {
   "cell_type": "code",
   "execution_count": 51,
   "metadata": {},
   "outputs": [
    {
     "data": {
      "text/plain": [
       "(0.14583603402563686, 0.8840508289568945)"
      ]
     },
     "execution_count": 51,
     "metadata": {},
     "output_type": "execute_result"
    }
   ],
   "source": [
    "count=87\n",
    "nobs=125\n",
    "st.proportions_ztest(count, nobs, value=0.69, alternative='two-sided', prop_var=False)"
   ]
  },
  {
   "cell_type": "markdown",
   "metadata": {},
   "source": [
    "> **CONCLUSION:** p value > alpha, we do not reject Ho, and conclude that middle class family has proportion of 69.6%"
   ]
  },
  {
   "cell_type": "markdown",
   "metadata": {},
   "source": [
    "- **Ho: The proportion of Lower middle class family is 25.60%**\n",
    "- **H1: The proportion of Lower middle class family is not 25.60%**"
   ]
  },
  {
   "cell_type": "code",
   "execution_count": 50,
   "metadata": {},
   "outputs": [
    {
     "data": {
      "text/plain": [
       "(0.0, 1.0)"
      ]
     },
     "execution_count": 50,
     "metadata": {},
     "output_type": "execute_result"
    }
   ],
   "source": [
    "count=32\n",
    "nobs=125\n",
    "st.proportions_ztest(count, nobs, value=0.256, alternative='two-sided', prop_var=False)"
   ]
  },
  {
   "cell_type": "markdown",
   "metadata": {},
   "source": [
    "> **CONCLUSION:** p value > alpha, we do not reject Ho, and conclude that Lower middle class family has proportion 25.60%"
   ]
  },
  {
   "cell_type": "markdown",
   "metadata": {},
   "source": [
    "### EQUALITY OF VARIANCE"
   ]
  },
  {
   "cell_type": "markdown",
   "metadata": {},
   "source": [
    "#### H0 : Variance of SES for farming and non-farming are equal.  Against\n",
    "#### H1 : Variances of SES for farming and non-farming are not equal."
   ]
  },
  {
   "cell_type": "code",
   "execution_count": 27,
   "metadata": {},
   "outputs": [],
   "source": [
    "import scipy.stats as sci\n",
    "mean1=0\n",
    "mean2=0\n",
    "data1=[]\n",
    "data2=[]\n",
    "df1=125\n",
    "df2=125\n",
    "df=df1+df2-2\n",
    "for i in range(125):\n",
    "    if data[\"Q19\"].iloc[i]==\"Yes \":\n",
    "        data1.append(data[\"SES\"].iloc[i])\n",
    "    else:\n",
    "        data2.append(data[\"SES\"].iloc[i])\n",
    "        "
   ]
  },
  {
   "cell_type": "code",
   "execution_count": 5,
   "metadata": {},
   "outputs": [
    {
     "name": "stdout",
     "output_type": "stream",
     "text": [
      "LeveneResult(statistic=3.6791404297851074, pvalue=0.05741521026784466)\n",
      "LeveneResult(statistic=3.5815993404879816, pvalue=0.060773228988901126)\n"
     ]
    }
   ],
   "source": [
    "import scipy.stats as stats\n",
    "\n",
    "print(stats.levene(data1, data2, center='mean'))"
   ]
  },
  {
   "cell_type": "markdown",
   "metadata": {},
   "source": [
    "> p value > alpha, so we fail to reject Ho, and consider that the variance of SES for farming and non farming are same. "
   ]
  },
  {
   "cell_type": "markdown",
   "metadata": {},
   "source": [
    "#### H0 : Variance of SES for SHG and non-SHG are equal.  Against\n",
    "#### H1 : Variances of SES for SHG and non-SHG are not equal."
   ]
  },
  {
   "cell_type": "code",
   "execution_count": 6,
   "metadata": {},
   "outputs": [],
   "source": [
    "\n",
    "mean1=0\n",
    "mean2=0\n",
    "data1=[]\n",
    "data2=[]\n",
    "df1=125\n",
    "df2=125\n",
    "df=df1+df2-2\n",
    "for i in range(125):\n",
    "    if data[\"Q37\"].iloc[i]==\"SHG\":\n",
    "        mean1=mean1+data[\"SES\"].iloc[i]\n",
    "        data1.append(data[\"SES\"].iloc[i])\n",
    "    else:\n",
    "        mean2=mean2+data[\"SES\"].iloc[i]\n",
    "        data2.append(data[\"SES\"].iloc[i])\n",
    "        "
   ]
  },
  {
   "cell_type": "code",
   "execution_count": 7,
   "metadata": {},
   "outputs": [
    {
     "name": "stdout",
     "output_type": "stream",
     "text": [
      "LeveneResult(statistic=0.7743211943260402, pvalue=0.3805995825370577)\n",
      "LeveneResult(statistic=0.6056478142358519, pvalue=0.4379256898927212)\n"
     ]
    }
   ],
   "source": [
    "import scipy.stats as stats\n",
    "\n",
    "\n",
    "print(stats.levene(data1, data2, center='mean'))"
   ]
  },
  {
   "cell_type": "markdown",
   "metadata": {},
   "source": [
    "> p value > alpha, so we fail to reject Ho, and consider that the variance of SES for SHG and non-SHG are same."
   ]
  },
  {
   "cell_type": "markdown",
   "metadata": {},
   "source": [
    "### EQUALITY OF MEAN"
   ]
  },
  {
   "cell_type": "markdown",
   "metadata": {},
   "source": [
    "Assumption in reality : The data follows normal distribution, and variances is known and not equal. "
   ]
  },
  {
   "cell_type": "code",
   "execution_count": 8,
   "metadata": {},
   "outputs": [],
   "source": [
    "import scipy.stats as sci\n",
    "mean1=0\n",
    "mean2=0\n",
    "data1=[]\n",
    "data2=[]\n",
    "\n",
    "df=df1+df2-2\n",
    "for i in range(125):\n",
    "    if data[\"Q19\"].iloc[i]==\"Yes \":\n",
    "        mean1=mean1+data[\"SES\"].iloc[i]\n",
    "        data1.append(data[\"SES\"].iloc[i])\n",
    "    else:\n",
    "        mean2=mean2+data[\"SES\"].iloc[i]\n",
    "        data2.append(data[\"SES\"].iloc[i])\n",
    "n1=len(data1)\n",
    "n2=len(data2)"
   ]
  },
  {
   "cell_type": "markdown",
   "metadata": {},
   "source": [
    "- **H0 : Mean SES for farming and non-farming are same.**\n",
    "- **H1 : Mean SES for farming and non-farming are not same.**"
   ]
  },
  {
   "cell_type": "code",
   "execution_count": 12,
   "metadata": {},
   "outputs": [
    {
     "data": {
      "text/plain": [
       "Ttest_indResult(statistic=-1.9817120074585988, pvalue=0.049741534048616406)"
      ]
     },
     "execution_count": 12,
     "metadata": {},
     "output_type": "execute_result"
    }
   ],
   "source": [
    "sci.ttest_ind(data1, data2, axis=0, equal_var=True, nan_policy='propagate')"
   ]
  },
  {
   "cell_type": "code",
   "execution_count": 26,
   "metadata": {},
   "outputs": [
    {
     "name": "stdout",
     "output_type": "stream",
     "text": [
      "-3.392295824336327 0.1746487655127964\n"
     ]
    }
   ],
   "source": [
    "from scipy.stats import t\n",
    "d1=np.array(data1); d2=np.array(data2)\n",
    "m = np.mean(d1) - np.mean(d2)\n",
    "v1 = np.var(d1, ddof=1)\n",
    "v2 = np.var(d2, ddof=1)\n",
    "pooled_se = np.sqrt(v1 / n1 + v2 / n2)\n",
    "tstat = m /  pooled_se\n",
    "df = (v1 / n1 + v2 / n2)**2 / (v1**2 / (n1**2 * (n1 - 1)) + v2**2 / (n2**2 * (n2 - 1)))\n",
    "lb = m - t.ppf(0.975,df)*pooled_se \n",
    "ub = m + t.ppf(0.975,df)*pooled_se\n",
    "print(lb, ub)"
   ]
  },
  {
   "cell_type": "markdown",
   "metadata": {},
   "source": [
    "> p value > alpha , so we do not reject Ho, and conclude that test is not significant and we have not enough evidance to reject Ho. \n",
    "i.e SES for farming and non-farming are same."
   ]
  },
  {
   "cell_type": "markdown",
   "metadata": {},
   "source": [
    "- **H0 : Mean SES for SHG and non-SHG are same.**\n",
    "- **H1 : Mean SES for SHG and non-SHG are not same.**"
   ]
  },
  {
   "cell_type": "code",
   "execution_count": 13,
   "metadata": {},
   "outputs": [],
   "source": [
    "\n",
    "mean1=0\n",
    "mean2=0\n",
    "data1=[]\n",
    "data2=[]\n",
    "df1=125\n",
    "df2=125\n",
    "df=df1+df2-2\n",
    "for i in range(125):\n",
    "    if data[\"Q37\"].iloc[i]==\"SHG\":\n",
    "        mean1=mean1+data[\"SES\"].iloc[i]\n",
    "        data1.append(data[\"SES\"].iloc[i])\n",
    "    else:\n",
    "        mean2=mean2+data[\"SES\"].iloc[i]\n",
    "        data2.append(data[\"SES\"].iloc[i])\n",
    "        "
   ]
  },
  {
   "cell_type": "code",
   "execution_count": 16,
   "metadata": {},
   "outputs": [
    {
     "data": {
      "text/plain": [
       "Ttest_indResult(statistic=0.203114270366366, pvalue=0.8393813435537497)"
      ]
     },
     "execution_count": 16,
     "metadata": {},
     "output_type": "execute_result"
    }
   ],
   "source": [
    "sci.ttest_ind(data1, data2, axis=0, equal_var=True, nan_policy='propagate') # leven's test or two sample t test"
   ]
  },
  {
   "cell_type": "markdown",
   "metadata": {},
   "source": [
    "> p value > alpha , so we do not reject Ho, and conclude that test is not significant and we have not enough evidance to reject Ho. \n",
    "i.e SES for SHG and non-SHG are same."
   ]
  },
  {
   "cell_type": "markdown",
   "metadata": {},
   "source": [
    "#### Another Method"
   ]
  },
  {
   "cell_type": "code",
   "execution_count": 17,
   "metadata": {},
   "outputs": [
    {
     "name": "stdout",
     "output_type": "stream",
     "text": [
      "\n",
      " Welch's t-test= 0.2005 \n",
      " p-value = 0.8415 \n",
      " Welch-Satterthwaite Degrees of Freedom= 2.2001\n"
     ]
    },
    {
     "data": {
      "text/plain": [
       "KruskalResult(statistic=0.002965432868553904, pvalue=0.9565720321955418)"
      ]
     },
     "execution_count": 17,
     "metadata": {},
     "output_type": "execute_result"
    }
   ],
   "source": [
    "from scipy import stats\n",
    "def welch_ttest(x, y): \n",
    "    ## Welch-Satterthwaite Degrees of Freedom ##\n",
    "    dof = (np.array(data1).var()/len(data1) + np.array(data2).var()/len(data2)**2 / ((np.array(data1).var()/len(data1))**2 / (len(data1)-1) + (np.array(data2).var()/len(data2))**2 / (len(data2)-1)))\n",
    "   \n",
    "    t, p = stats.ttest_ind(data1, data2, equal_var = False)\n",
    "    \n",
    "    print(\"\\n\",\n",
    "          f\"Welch's t-test= {t:.4f}\", \"\\n\",\n",
    "          f\"p-value = {p:.4f}\", \"\\n\",\n",
    "          f\"Welch-Satterthwaite Degrees of Freedom= {dof:.4f}\")\n",
    "\n",
    "welch_ttest(data1, data2)\n",
    "\n",
    "stats.kruskal(data1,data2)"
   ]
  },
  {
   "cell_type": "markdown",
   "metadata": {},
   "source": [
    "p value > alpha , so we do not reject Ho, and conclude that test is not significant and we have not enough evidance to reject Ho. \n",
    "i.e SES for SHG and non-SHG are same."
   ]
  },
  {
   "cell_type": "markdown",
   "metadata": {},
   "source": [
    "## ANALYSIS OF DRUDGERY PART"
   ]
  },
  {
   "cell_type": "code",
   "execution_count": 22,
   "metadata": {},
   "outputs": [
    {
     "data": {
      "text/html": [
       "<div>\n",
       "<style scoped>\n",
       "    .dataframe tbody tr th:only-of-type {\n",
       "        vertical-align: middle;\n",
       "    }\n",
       "\n",
       "    .dataframe tbody tr th {\n",
       "        vertical-align: top;\n",
       "    }\n",
       "\n",
       "    .dataframe thead th {\n",
       "        text-align: right;\n",
       "    }\n",
       "</style>\n",
       "<table border=\"1\" class=\"dataframe\">\n",
       "  <thead>\n",
       "    <tr style=\"text-align: right;\">\n",
       "      <th></th>\n",
       "      <th>Name</th>\n",
       "      <th>Q1</th>\n",
       "      <th>Q2</th>\n",
       "      <th>Q3</th>\n",
       "      <th>Q3_1</th>\n",
       "      <th>Q3_2</th>\n",
       "      <th>Q3_3</th>\n",
       "      <th>Q3_4</th>\n",
       "      <th>Q3_5</th>\n",
       "      <th>Q3_6</th>\n",
       "      <th>...</th>\n",
       "      <th>Q34</th>\n",
       "      <th>Q35</th>\n",
       "      <th>Q36</th>\n",
       "      <th>SES</th>\n",
       "      <th>DS</th>\n",
       "      <th>SES1</th>\n",
       "      <th>Q3_10</th>\n",
       "      <th>Q12_10</th>\n",
       "      <th>Q13_10</th>\n",
       "      <th>Q37</th>\n",
       "    </tr>\n",
       "  </thead>\n",
       "  <tbody>\n",
       "    <tr>\n",
       "      <td>0</td>\n",
       "      <td>Tabbasum ben Ahmed bhai</td>\n",
       "      <td>24.0</td>\n",
       "      <td>0.0</td>\n",
       "      <td>Housewife</td>\n",
       "      <td>0.0</td>\n",
       "      <td>0.0</td>\n",
       "      <td>0.0</td>\n",
       "      <td>0.0</td>\n",
       "      <td>0.0</td>\n",
       "      <td>0.0</td>\n",
       "      <td>...</td>\n",
       "      <td>Never</td>\n",
       "      <td>Weekly</td>\n",
       "      <td>6 - 8 hour</td>\n",
       "      <td>24.0</td>\n",
       "      <td>52.698413</td>\n",
       "      <td>Middle class</td>\n",
       "      <td>1.0</td>\n",
       "      <td>4.0</td>\n",
       "      <td>NaN</td>\n",
       "      <td>SHG</td>\n",
       "    </tr>\n",
       "    <tr>\n",
       "      <td>1</td>\n",
       "      <td>Amba</td>\n",
       "      <td>60.0</td>\n",
       "      <td>0.0</td>\n",
       "      <td>Casual Labourer  Farming</td>\n",
       "      <td>1.0</td>\n",
       "      <td>0.0</td>\n",
       "      <td>1.0</td>\n",
       "      <td>0.0</td>\n",
       "      <td>0.0</td>\n",
       "      <td>0.0</td>\n",
       "      <td>...</td>\n",
       "      <td>Never</td>\n",
       "      <td>Never</td>\n",
       "      <td>6 - 8 hour</td>\n",
       "      <td>23.0</td>\n",
       "      <td>53.809524</td>\n",
       "      <td>Lower middle class</td>\n",
       "      <td>5.0</td>\n",
       "      <td>4.0</td>\n",
       "      <td>NaN</td>\n",
       "      <td>Non SHG</td>\n",
       "    </tr>\n",
       "    <tr>\n",
       "      <td>2</td>\n",
       "      <td>Naina Ben chhaganbhai Rohit</td>\n",
       "      <td>40.0</td>\n",
       "      <td>0.0</td>\n",
       "      <td>Housewife</td>\n",
       "      <td>0.0</td>\n",
       "      <td>0.0</td>\n",
       "      <td>0.0</td>\n",
       "      <td>0.0</td>\n",
       "      <td>0.0</td>\n",
       "      <td>0.0</td>\n",
       "      <td>...</td>\n",
       "      <td>Monthly</td>\n",
       "      <td>Never</td>\n",
       "      <td>6 - 8 hour</td>\n",
       "      <td>18.0</td>\n",
       "      <td>48.253968</td>\n",
       "      <td>Lower middle class</td>\n",
       "      <td>1.0</td>\n",
       "      <td>4.0</td>\n",
       "      <td>NaN</td>\n",
       "      <td>SHG</td>\n",
       "    </tr>\n",
       "    <tr>\n",
       "      <td>3</td>\n",
       "      <td>Manjula ganpat parmar</td>\n",
       "      <td>52.0</td>\n",
       "      <td>6.0</td>\n",
       "      <td>Farming Housewife</td>\n",
       "      <td>0.0</td>\n",
       "      <td>0.0</td>\n",
       "      <td>1.0</td>\n",
       "      <td>0.0</td>\n",
       "      <td>0.0</td>\n",
       "      <td>0.0</td>\n",
       "      <td>...</td>\n",
       "      <td>Never</td>\n",
       "      <td>Never</td>\n",
       "      <td>6 - 8 hour</td>\n",
       "      <td>28.0</td>\n",
       "      <td>58.253968</td>\n",
       "      <td>Middle class</td>\n",
       "      <td>5.0</td>\n",
       "      <td>4.0</td>\n",
       "      <td>NaN</td>\n",
       "      <td>Non SHG</td>\n",
       "    </tr>\n",
       "    <tr>\n",
       "      <td>4</td>\n",
       "      <td>Dahiben</td>\n",
       "      <td>62.0</td>\n",
       "      <td>0.0</td>\n",
       "      <td>Farming</td>\n",
       "      <td>0.0</td>\n",
       "      <td>0.0</td>\n",
       "      <td>1.0</td>\n",
       "      <td>0.0</td>\n",
       "      <td>0.0</td>\n",
       "      <td>0.0</td>\n",
       "      <td>...</td>\n",
       "      <td>Weekly</td>\n",
       "      <td>Never</td>\n",
       "      <td>8 - 12 hour</td>\n",
       "      <td>22.0</td>\n",
       "      <td>60.793651</td>\n",
       "      <td>Lower middle class</td>\n",
       "      <td>5.0</td>\n",
       "      <td>1.0</td>\n",
       "      <td>NaN</td>\n",
       "      <td>SHG</td>\n",
       "    </tr>\n",
       "  </tbody>\n",
       "</table>\n",
       "<p>5 rows × 145 columns</p>\n",
       "</div>"
      ],
      "text/plain": [
       "                          Name    Q1   Q2                        Q3  Q3_1  \\\n",
       "0      Tabbasum ben Ahmed bhai  24.0  0.0                Housewife    0.0   \n",
       "1                         Amba  60.0  0.0  Casual Labourer  Farming   1.0   \n",
       "2  Naina Ben chhaganbhai Rohit  40.0  0.0                Housewife    0.0   \n",
       "3        Manjula ganpat parmar  52.0  6.0        Farming Housewife    0.0   \n",
       "4                      Dahiben  62.0  0.0                   Farming   0.0   \n",
       "\n",
       "   Q3_2  Q3_3  Q3_4  Q3_5  Q3_6  ...      Q34     Q35          Q36   SES  \\\n",
       "0   0.0   0.0   0.0   0.0   0.0  ...    Never  Weekly   6 - 8 hour  24.0   \n",
       "1   0.0   1.0   0.0   0.0   0.0  ...    Never   Never   6 - 8 hour  23.0   \n",
       "2   0.0   0.0   0.0   0.0   0.0  ...  Monthly   Never   6 - 8 hour  18.0   \n",
       "3   0.0   1.0   0.0   0.0   0.0  ...    Never   Never   6 - 8 hour  28.0   \n",
       "4   0.0   1.0   0.0   0.0   0.0  ...   Weekly   Never  8 - 12 hour  22.0   \n",
       "\n",
       "          DS                SES1 Q3_10 Q12_10  Q13_10      Q37  \n",
       "0  52.698413        Middle class   1.0    4.0     NaN      SHG  \n",
       "1  53.809524  Lower middle class   5.0    4.0     NaN  Non SHG  \n",
       "2  48.253968  Lower middle class   1.0    4.0     NaN      SHG  \n",
       "3  58.253968        Middle class   5.0    4.0     NaN  Non SHG  \n",
       "4  60.793651  Lower middle class   5.0    1.0     NaN      SHG  \n",
       "\n",
       "[5 rows x 145 columns]"
      ]
     },
     "execution_count": 22,
     "metadata": {},
     "output_type": "execute_result"
    }
   ],
   "source": [
    "data.head()"
   ]
  },
  {
   "cell_type": "markdown",
   "metadata": {},
   "source": [
    "### EQUALITY OF VARIANCE"
   ]
  },
  {
   "cell_type": "markdown",
   "metadata": {},
   "source": [
    "- **H0 :variance of DS for all activity are equal.**\n",
    "- **H1 :variance of DS are not equal for all activity.**"
   ]
  },
  {
   "cell_type": "code",
   "execution_count": 24,
   "metadata": {},
   "outputs": [],
   "source": [
    "import scipy.stats as sci\n",
    "mean1=[]\n",
    "mean2=[]\n",
    "mean3=[]\n",
    "mean4=[]\n",
    "mean5=[]\n",
    "mean6=[]\n",
    "mean7=[]\n",
    "for i in range(125):\n",
    "    \n",
    "    mean1.append(( (data[\"Q23_1\"][i]/6) +(data[\"Q24_1\"][i]/6)+ (data[\"Q25_1\"][i]/5) )/3*100)\n",
    "    mean2.append(( (data[\"Q23_2\"][i]/6) +(data[\"Q24_2\"][i]/6)+ (data[\"Q25_2\"][i]/5) )/3*100)\n",
    "    mean3.append(( (data[\"Q23_3\"][i]/6) +(data[\"Q24_3\"][i]/6)+ (data[\"Q25_3\"][i]/5) )/3*100)\n",
    "    mean4.append(( (data[\"Q23_4\"][i]/6) +(data[\"Q24_4\"][i]/6)+ (data[\"Q25_4\"][i]/5) )/3*100)\n",
    "    mean5.append(( (data[\"Q23_5\"][i]/6) +(data[\"Q24_5\"][i]/6)+ (data[\"Q25_5\"][i]/5) )/3*100)\n",
    "    mean6.append(( (data[\"Q23_6\"][i]/6) +(data[\"Q24_6\"][i]/6)+ (data[\"Q25_6\"][i]/5) )/3*100)\n",
    "    mean7.append(( (data[\"Q23_7\"][i]/6) +(data[\"Q24_7\"][i]/6)+ (data[\"Q25_7\"][i]/5) )/3*100)\n",
    "    "
   ]
  },
  {
   "cell_type": "code",
   "execution_count": 25,
   "metadata": {},
   "outputs": [
    {
     "name": "stdout",
     "output_type": "stream",
     "text": [
      "LeveneResult(statistic=2.311729690852227, pvalue=0.03204356723370543)\n",
      "LeveneResult(statistic=2.3714718250032907, pvalue=0.02804799716873424)\n"
     ]
    }
   ],
   "source": [
    "import scipy.stats as stats\n",
    "print(stats.levene(mean1,mean2,mean3,mean4,mean5,mean6,mean7, center='mean'))\n"
   ]
  },
  {
   "cell_type": "markdown",
   "metadata": {},
   "source": [
    "> p value < alpha, so we reject Ho and conclude that variance of drudgery score is different for all activity."
   ]
  },
  {
   "cell_type": "code",
   "execution_count": 26,
   "metadata": {},
   "outputs": [
    {
     "data": {
      "image/png": "[encoded data removed]",
      "text/plain": [
       "<Figure size 720x720 with 1 Axes>"
      ]
     },
     "metadata": {
      "needs_background": "light"
     },
     "output_type": "display_data"
    }
   ],
   "source": [
    "fig = plt.figure(figsize= (10, 10))\n",
    "ax = fig.add_subplot(111)\n",
    "ax.set_title(\"Box Plot of DS of different activity.\", fontsize= 20)\n",
    "ax.set\n",
    "\n",
    "\n",
    "ax.boxplot([mean1,mean2,mean3,mean4,mean5,mean6,mean7],\n",
    "           labels= ['Sowing','Weeding','Farm Cleaning','Storage','Fartilizer','Fooder Cutting','Cleaning of grains'],\n",
    "           showmeans= False)\n",
    "\n",
    "plt.xlabel(\"Activities\")\n",
    "plt.ylabel(\"Drudgery Score\")\n",
    "\n",
    "plt.show()"
   ]
  },
  {
   "cell_type": "markdown",
   "metadata": {},
   "source": [
    "- **Ho : variance of DS for SHG and non-SHG group are same.**\n",
    "- **H1 : Variance of DS for SHG and Non-SHG group are different.**"
   ]
  },
  {
   "cell_type": "code",
   "execution_count": 27,
   "metadata": {},
   "outputs": [],
   "source": [
    "\n",
    "mean1=0\n",
    "mean2=0\n",
    "data1=[]\n",
    "data2=[]\n",
    "df1=125\n",
    "df2=125\n",
    "df=df1+df2-2\n",
    "for i in range(125):\n",
    "    if data[\"Q37\"].iloc[i]==\"SHG\":\n",
    "        mean1=mean1+data[\"DS\"].iloc[i]\n",
    "        data1.append(data[\"DS\"].iloc[i])\n",
    "    else:\n",
    "        mean2=mean2+data[\"DS\"].iloc[i]\n",
    "        data2.append(data[\"DS\"].iloc[i])\n",
    "        "
   ]
  },
  {
   "cell_type": "code",
   "execution_count": 28,
   "metadata": {},
   "outputs": [
    {
     "name": "stdout",
     "output_type": "stream",
     "text": [
      "LeveneResult(statistic=2.8980182942915893, pvalue=0.0912145285587873)\n",
      "LeveneResult(statistic=2.891221011457505, pvalue=0.09159057348851529)\n"
     ]
    }
   ],
   "source": [
    "import scipy.stats as stats\n",
    "\n",
    "print(stats.levene(data1, data2, center='mean'))"
   ]
  },
  {
   "cell_type": "markdown",
   "metadata": {},
   "source": [
    "> p value > alpha, we do not rejet Ho, and conclude that variance of DS for SHG-non SHG group are same."
   ]
  },
  {
   "cell_type": "code",
   "execution_count": 29,
   "metadata": {},
   "outputs": [
    {
     "data": {
      "image/png": "[encoded data removed]",
      "text/plain": [
       "<Figure size 720x720 with 1 Axes>"
      ]
     },
     "metadata": {
      "needs_background": "light"
     },
     "output_type": "display_data"
    }
   ],
   "source": [
    "fig = plt.figure(figsize= (10, 10))\n",
    "ax = fig.add_subplot(111)\n",
    "ax.set_title(\"Box Plot of DS of SHG and Non-SHG groups\", fontsize= 20)\n",
    "ax.set\n",
    "\n",
    "\n",
    "ax.boxplot([data1,data2],\n",
    "           labels= ['SHG', 'Non-SHG'],\n",
    "           showmeans= False)\n",
    "\n",
    "plt.xlabel(\"Groups\")\n",
    "plt.ylabel(\"Drudgery Score\")\n",
    "\n",
    "plt.show()"
   ]
  },
  {
   "cell_type": "code",
   "execution_count": 47,
   "metadata": {},
   "outputs": [],
   "source": [
    "A1 = data.query('SES1 == \"Lower middle class\"')['DS']"
   ]
  },
  {
   "cell_type": "code",
   "execution_count": 48,
   "metadata": {},
   "outputs": [
    {
     "data": {
      "text/plain": [
       "32"
      ]
     },
     "execution_count": 48,
     "metadata": {},
     "output_type": "execute_result"
    }
   ],
   "source": [
    "len(A1)"
   ]
  },
  {
   "cell_type": "code",
   "execution_count": null,
   "metadata": {},
   "outputs": [],
   "source": []
  }
 ],
 "metadata": {
  "kernelspec": {
   "display_name": "Python 3",
   "language": "python",
   "name": "python3"
  },
  "language_info": {
   "codemirror_mode": {
    "name": "ipython",
    "version": 3
   },
   "file_extension": ".py",
   "mimetype": "text/x-python",
   "name": "python",
   "nbconvert_exporter": "python",
   "pygments_lexer": "ipython3",
   "version": "3.8.8"
  }
 },
 "nbformat": 4,
 "nbformat_minor": 2
}
