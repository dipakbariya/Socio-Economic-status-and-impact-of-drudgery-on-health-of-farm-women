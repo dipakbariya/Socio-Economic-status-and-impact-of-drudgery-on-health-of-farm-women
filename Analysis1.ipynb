{
 "cells": [
  {
   "cell_type": "code",
   "execution_count": 3,
   "metadata": {
    "executionInfo": {
     "elapsed": 579,
     "status": "ok",
     "timestamp": 1624064621337,
     "user": {
      "displayName": "Dipak Bariya",
      "photoUrl": "https://lh3.googleusercontent.com/a-/AOh14GjNV2sLYPvKe0zWengpon1F21KL6BWxvCqRoxIt=s64",
      "userId": "02959653505330042888"
     },
     "user_tz": -330
    },
    "id": "H76nGMFmSM-V"
   },
   "outputs": [],
   "source": [
    "import pandas as pd\n",
    "data=pd.read_excel(r\"C:\\Users\\dipak.D\\Documents\\MSC\\MSC_SEM_4\\Project\\DATA3.xlsx\")"
   ]
  },
  {
   "cell_type": "code",
   "execution_count": 4,
   "metadata": {
    "colab": {
     "base_uri": "https://localhost:8080/",
     "height": 717
    },
    "executionInfo": {
     "elapsed": 33,
     "status": "ok",
     "timestamp": 1624064622153,
     "user": {
      "displayName": "Dipak Bariya",
      "photoUrl": "https://lh3.googleusercontent.com/a-/AOh14GjNV2sLYPvKe0zWengpon1F21KL6BWxvCqRoxIt=s64",
      "userId": "02959653505330042888"
     },
     "user_tz": -330
    },
    "id": "97CDISKFUBXb",
    "outputId": "6fcd1e63-85b6-4168-88f6-30330f145757"
   },
   "outputs": [
    {
     "data": {
      "text/html": [
       "<div>\n",
       "<style scoped>\n",
       "    .dataframe tbody tr th:only-of-type {\n",
       "        vertical-align: middle;\n",
       "    }\n",
       "\n",
       "    .dataframe tbody tr th {\n",
       "        vertical-align: top;\n",
       "    }\n",
       "\n",
       "    .dataframe thead th {\n",
       "        text-align: right;\n",
       "    }\n",
       "</style>\n",
       "<table border=\"1\" class=\"dataframe\">\n",
       "  <thead>\n",
       "    <tr style=\"text-align: right;\">\n",
       "      <th></th>\n",
       "      <th>Name</th>\n",
       "      <th>Q1</th>\n",
       "      <th>Q2</th>\n",
       "      <th>Q3</th>\n",
       "      <th>Q3_1</th>\n",
       "      <th>Q3_2</th>\n",
       "      <th>Q3_3</th>\n",
       "      <th>Q3_4</th>\n",
       "      <th>Q3_5</th>\n",
       "      <th>Q3_6</th>\n",
       "      <th>...</th>\n",
       "      <th>Q14_10</th>\n",
       "      <th>Q15_10</th>\n",
       "      <th>Q16_10</th>\n",
       "      <th>S1</th>\n",
       "      <th>S2</th>\n",
       "      <th>S3</th>\n",
       "      <th>S4</th>\n",
       "      <th>S5</th>\n",
       "      <th>S6</th>\n",
       "      <th>S7</th>\n",
       "    </tr>\n",
       "  </thead>\n",
       "  <tbody>\n",
       "    <tr>\n",
       "      <th>0</th>\n",
       "      <td>Shonuben nileshbhai bariya</td>\n",
       "      <td>45</td>\n",
       "      <td>4</td>\n",
       "      <td>Job Housewife  Independent Profession</td>\n",
       "      <td>0</td>\n",
       "      <td>1</td>\n",
       "      <td>0</td>\n",
       "      <td>0</td>\n",
       "      <td>1</td>\n",
       "      <td>0</td>\n",
       "      <td>...</td>\n",
       "      <td>2</td>\n",
       "      <td>NaN</td>\n",
       "      <td>3</td>\n",
       "      <td>43.333333</td>\n",
       "      <td>50.000000</td>\n",
       "      <td>48.888889</td>\n",
       "      <td>24.444444</td>\n",
       "      <td>36.666667</td>\n",
       "      <td>54.444444</td>\n",
       "      <td>24.444444</td>\n",
       "    </tr>\n",
       "    <tr>\n",
       "      <th>1</th>\n",
       "      <td>Tinaben bariya</td>\n",
       "      <td>65</td>\n",
       "      <td>1</td>\n",
       "      <td>Job</td>\n",
       "      <td>0</td>\n",
       "      <td>0</td>\n",
       "      <td>0</td>\n",
       "      <td>0</td>\n",
       "      <td>1</td>\n",
       "      <td>0</td>\n",
       "      <td>...</td>\n",
       "      <td>4</td>\n",
       "      <td>NaN</td>\n",
       "      <td>3</td>\n",
       "      <td>47.777778</td>\n",
       "      <td>53.333333</td>\n",
       "      <td>54.444444</td>\n",
       "      <td>35.555556</td>\n",
       "      <td>30.000000</td>\n",
       "      <td>65.555556</td>\n",
       "      <td>28.888889</td>\n",
       "    </tr>\n",
       "    <tr>\n",
       "      <th>2</th>\n",
       "      <td>Sonal bariya</td>\n",
       "      <td>35</td>\n",
       "      <td>5</td>\n",
       "      <td>Housewife  small businessJob</td>\n",
       "      <td>0</td>\n",
       "      <td>0</td>\n",
       "      <td>0</td>\n",
       "      <td>0</td>\n",
       "      <td>1</td>\n",
       "      <td>1</td>\n",
       "      <td>...</td>\n",
       "      <td>4</td>\n",
       "      <td>NaN</td>\n",
       "      <td>3</td>\n",
       "      <td>65.555556</td>\n",
       "      <td>60.000000</td>\n",
       "      <td>65.555556</td>\n",
       "      <td>47.777778</td>\n",
       "      <td>47.777778</td>\n",
       "      <td>76.666667</td>\n",
       "      <td>34.444444</td>\n",
       "    </tr>\n",
       "    <tr>\n",
       "      <th>3</th>\n",
       "      <td>Gita</td>\n",
       "      <td>83</td>\n",
       "      <td>0</td>\n",
       "      <td>small businessJob</td>\n",
       "      <td>0</td>\n",
       "      <td>0</td>\n",
       "      <td>0</td>\n",
       "      <td>0</td>\n",
       "      <td>1</td>\n",
       "      <td>1</td>\n",
       "      <td>...</td>\n",
       "      <td>2</td>\n",
       "      <td>NaN</td>\n",
       "      <td>3</td>\n",
       "      <td>61.111111</td>\n",
       "      <td>72.222222</td>\n",
       "      <td>77.777778</td>\n",
       "      <td>42.222222</td>\n",
       "      <td>35.555556</td>\n",
       "      <td>72.222222</td>\n",
       "      <td>23.333333</td>\n",
       "    </tr>\n",
       "    <tr>\n",
       "      <th>4</th>\n",
       "      <td>Hemu</td>\n",
       "      <td>35</td>\n",
       "      <td>5</td>\n",
       "      <td>Housewife  Job</td>\n",
       "      <td>0</td>\n",
       "      <td>0</td>\n",
       "      <td>0</td>\n",
       "      <td>0</td>\n",
       "      <td>1</td>\n",
       "      <td>0</td>\n",
       "      <td>...</td>\n",
       "      <td>2</td>\n",
       "      <td>NaN</td>\n",
       "      <td>3</td>\n",
       "      <td>60.000000</td>\n",
       "      <td>53.333333</td>\n",
       "      <td>65.555556</td>\n",
       "      <td>41.111111</td>\n",
       "      <td>34.444444</td>\n",
       "      <td>71.111111</td>\n",
       "      <td>34.444444</td>\n",
       "    </tr>\n",
       "  </tbody>\n",
       "</table>\n",
       "<p>5 rows × 155 columns</p>\n",
       "</div>"
      ],
      "text/plain": [
       "                         Name  Q1  Q2                                     Q3  \\\n",
       "0  Shonuben nileshbhai bariya  45   4  Job Housewife  Independent Profession   \n",
       "1              Tinaben bariya  65   1                                    Job   \n",
       "2                Sonal bariya  35   5           Housewife  small businessJob   \n",
       "3                        Gita  83   0                      small businessJob   \n",
       "4                        Hemu  35   5                         Housewife  Job   \n",
       "\n",
       "   Q3_1  Q3_2  Q3_3  Q3_4  Q3_5  Q3_6  ...  Q14_10  Q15_10  Q16_10         S1  \\\n",
       "0     0     1     0     0     1     0  ...       2     NaN       3  43.333333   \n",
       "1     0     0     0     0     1     0  ...       4     NaN       3  47.777778   \n",
       "2     0     0     0     0     1     1  ...       4     NaN       3  65.555556   \n",
       "3     0     0     0     0     1     1  ...       2     NaN       3  61.111111   \n",
       "4     0     0     0     0     1     0  ...       2     NaN       3  60.000000   \n",
       "\n",
       "          S2         S3         S4         S5         S6         S7  \n",
       "0  50.000000  48.888889  24.444444  36.666667  54.444444  24.444444  \n",
       "1  53.333333  54.444444  35.555556  30.000000  65.555556  28.888889  \n",
       "2  60.000000  65.555556  47.777778  47.777778  76.666667  34.444444  \n",
       "3  72.222222  77.777778  42.222222  35.555556  72.222222  23.333333  \n",
       "4  53.333333  65.555556  41.111111  34.444444  71.111111  34.444444  \n",
       "\n",
       "[5 rows x 155 columns]"
      ]
     },
     "execution_count": 4,
     "metadata": {},
     "output_type": "execute_result"
    }
   ],
   "source": [
    "data.head()"
   ]
  },
  {
   "cell_type": "code",
   "execution_count": null,
   "metadata": {},
   "outputs": [],
   "source": []
  },
  {
   "cell_type": "markdown",
   "metadata": {
    "id": "WuV5Al0nV9qi"
   },
   "source": [
    "**OBJECTIVE: The mean drudgery score for all category of SES are same.**\n"
   ]
  },
  {
   "cell_type": "markdown",
   "metadata": {
    "id": "hVcxt7X5WHQh"
   },
   "source": [
    "- **HO: mu1 = mu2= ... = mu3**\n",
    "- **H1: Inequality at one place.**"
   ]
  },
  {
   "cell_type": "code",
   "execution_count": 5,
   "metadata": {
    "colab": {
     "base_uri": "https://localhost:8080/"
    },
    "executionInfo": {
     "elapsed": 414,
     "status": "ok",
     "timestamp": 1624063640546,
     "user": {
      "displayName": "Dipak Bariya",
      "photoUrl": "https://lh3.googleusercontent.com/a-/AOh14GjNV2sLYPvKe0zWengpon1F21KL6BWxvCqRoxIt=s64",
      "userId": "02959653505330042888"
     },
     "user_tz": -330
    },
    "id": "w3WkigLBWFCO",
    "outputId": "61c8de2e-22f1-41c8-d8d0-53279a9e2b41"
   },
   "outputs": [
    {
     "name": "stdout",
     "output_type": "stream",
     "text": [
      "               sum_sq     df         F    PR(>F)\n",
      "SES1       675.317724    2.0  4.787207  0.009965\n",
      "Residual  8605.096285  122.0       NaN       NaN\n"
     ]
    }
   ],
   "source": [
    "df1=data[[\"SES1\",\"DS\"]]\n",
    "import statsmodels.api as sm\n",
    "from statsmodels.formula.api import ols\n",
    "mod = ols('DS ~ SES1',\n",
    "                data=data).fit()\n",
    "                \n",
    "aov_table = sm.stats.anova_lm(mod, typ=2)\n",
    "print(aov_table)"
   ]
  },
  {
   "cell_type": "markdown",
   "metadata": {
    "id": "qSys4d5ev4n3"
   },
   "source": [
    ">**CONCLUSION:** p value < alpha, we reject Ho, and conclude that there is inequlity at one place."
   ]
  },
  {
   "cell_type": "code",
   "execution_count": 7,
   "metadata": {
    "executionInfo": {
     "elapsed": 429,
     "status": "ok",
     "timestamp": 1624062979117,
     "user": {
      "displayName": "Dipak Bariya",
      "photoUrl": "https://lh3.googleusercontent.com/a-/AOh14GjNV2sLYPvKe0zWengpon1F21KL6BWxvCqRoxIt=s64",
      "userId": "02959653505330042888"
     },
     "user_tz": -330
    },
    "id": "VL7Gu13Yr883"
   },
   "outputs": [],
   "source": [
    "ctrl = data['DS'][data.SES1 == 'ctrl']\n",
    "\n",
    "grps = pd.unique(data.SES1.values)\n",
    "d_data = {grp:data['DS'][data.SES1 == grp] for grp in grps}\n",
    "\n",
    "k = len(pd.unique(data.SES1))  # number of conditions\n",
    "N = len(data.values)  # conditions times participants\n",
    "n = data.groupby('SES1').size()[0] #Participants in each condition"
   ]
  },
  {
   "cell_type": "code",
   "execution_count": 9,
   "metadata": {
    "executionInfo": {
     "elapsed": 433,
     "status": "ok",
     "timestamp": 1624063256102,
     "user": {
      "displayName": "Dipak Bariya",
      "photoUrl": "https://lh3.googleusercontent.com/a-/AOh14GjNV2sLYPvKe0zWengpon1F21KL6BWxvCqRoxIt=s64",
      "userId": "02959653505330042888"
     },
     "user_tz": -330
    },
    "id": "5WfBnRsTsoZj"
   },
   "outputs": [],
   "source": [
    "from scipy import stats\n",
    "\n",
    "F, p = stats.f_oneway(d_data['Lower middle class'], d_data['Middle class'], d_data['Upper middle class'])"
   ]
  },
  {
   "cell_type": "code",
   "execution_count": 10,
   "metadata": {
    "colab": {
     "base_uri": "https://localhost:8080/"
    },
    "executionInfo": {
     "elapsed": 709,
     "status": "ok",
     "timestamp": 1624063275550,
     "user": {
      "displayName": "Dipak Bariya",
      "photoUrl": "https://lh3.googleusercontent.com/a-/AOh14GjNV2sLYPvKe0zWengpon1F21KL6BWxvCqRoxIt=s64",
      "userId": "02959653505330042888"
     },
     "user_tz": -330
    },
    "id": "aqT10TMDs8NA",
    "outputId": "35f61c2a-d329-47f7-d980-6a80125655fa"
   },
   "outputs": [
    {
     "name": "stdout",
     "output_type": "stream",
     "text": [
      "4.787207460913018 0.009965322865228119\n"
     ]
    }
   ],
   "source": [
    "print(F,p)"
   ]
  },
  {
   "cell_type": "markdown",
   "metadata": {},
   "source": [
    ">**CONCLUSION:** p value < alpha, we reject Ho, and conclude that, there is inequality at one place."
   ]
  },
  {
   "cell_type": "code",
   "execution_count": null,
   "metadata": {},
   "outputs": [],
   "source": []
  },
  {
   "cell_type": "markdown",
   "metadata": {
    "id": "_StPEAnDwF2D"
   },
   "source": [
    "- **Ho : Farming and Non-farming groups have same variance of SES.**\n",
    "- **Ho : Farming and Non-farming groups have different variance of SES.**"
   ]
  },
  {
   "cell_type": "code",
   "execution_count": 11,
   "metadata": {
    "id": "xSgWJ7d_wG64"
   },
   "outputs": [
    {
     "name": "stdout",
     "output_type": "stream",
     "text": [
      "LeveneResult(statistic=3.6791404297851074, pvalue=0.05741521026784466)\n",
      "LeveneResult(statistic=3.5815993404879816, pvalue=0.060773228988901126)\n"
     ]
    }
   ],
   "source": [
    "import scipy.stats as sci\n",
    "mean1=0\n",
    "mean2=0\n",
    "mean3=0\n",
    "data1=[]\n",
    "data2=[]\n",
    "data3=[]\n",
    "df1_1=125\n",
    "df1_2=125\n",
    "df1_3=125\n",
    "df=df1_1+df1_2+df1_3-3\n",
    "for i in range(125):\n",
    "    if data[\"Q19\"].iloc[i]==\"Yes \":\n",
    "        data1.append(data[\"SES\"].iloc[i])\n",
    "    else:\n",
    "        data2.append(data[\"SES\"].iloc[i])\n",
    "import scipy.stats as stats\n",
    "\n",
    "print(stats.levene(data1, data2, center='mean'))"
   ]
  },
  {
   "cell_type": "markdown",
   "metadata": {},
   "source": [
    ">**CONCLUSION:** p value > alpha, we do not reject Ho, and conclude that farming and nonfarming groups have same variance."
   ]
  },
  {
   "cell_type": "markdown",
   "metadata": {},
   "source": [
    "- **Ho: variance of DS of different SES categories are same.**\n",
    "- **Ho: variance of DS of different SES categories are not same.**"
   ]
  },
  {
   "cell_type": "code",
   "execution_count": 13,
   "metadata": {
    "colab": {
     "base_uri": "https://localhost:8080/"
    },
    "executionInfo": {
     "elapsed": 484,
     "status": "ok",
     "timestamp": 1624064480198,
     "user": {
      "displayName": "Dipak Bariya",
      "photoUrl": "https://lh3.googleusercontent.com/a-/AOh14GjNV2sLYPvKe0zWengpon1F21KL6BWxvCqRoxIt=s64",
      "userId": "02959653505330042888"
     },
     "user_tz": -330
    },
    "id": "eQvd68Rzw_ix",
    "outputId": "0e3bb159-cb4a-4b4f-8648-37d25df0108a"
   },
   "outputs": [
    {
     "name": "stdout",
     "output_type": "stream",
     "text": [
      "5.44875089425972 0.00541282299884567\n"
     ]
    }
   ],
   "source": [
    "from scipy.stats import levene\n",
    "\n",
    "# Create three arrays for each sample:\n",
    "A1 = data.query('SES1 == \"Lower middle class\"')['DS']\n",
    "A2 = data.query('SES1 == \"Middle class\"')['DS']\n",
    "A3 = data.query('SES1 == \"Upper middle class\"')['DS']\n",
    "\n",
    "# Levene's Test in Python with Scipy:\n",
    "stat, p = levene(A1,A2,A3)\n",
    "\n",
    "print(stat, p)"
   ]
  },
  {
   "cell_type": "markdown",
   "metadata": {
    "id": "nJEhlRhvycIJ"
   },
   "source": [
    ">**CONCLUSION:** p value < alpha, we reject Ho, and conclude that Variance of DS of different SES categories are not same."
   ]
  },
  {
   "cell_type": "code",
   "execution_count": null,
   "metadata": {
    "id": "xp2Ullu2zPAA"
   },
   "outputs": [],
   "source": []
  },
  {
   "cell_type": "markdown",
   "metadata": {
    "id": "dyPTgl3hzqVZ"
   },
   "source": [
    "- **H0 : Mean drudgery score is same for all activity.**\n",
    "- **H1 : Mean drudgery score is not same for all activity.**"
   ]
  },
  {
   "cell_type": "code",
   "execution_count": 16,
   "metadata": {
    "executionInfo": {
     "elapsed": 472,
     "status": "ok",
     "timestamp": 1624064934426,
     "user": {
      "displayName": "Dipak Bariya",
      "photoUrl": "https://lh3.googleusercontent.com/a-/AOh14GjNV2sLYPvKe0zWengpon1F21KL6BWxvCqRoxIt=s64",
      "userId": "02959653505330042888"
     },
     "user_tz": -330
    },
    "id": "VCZYX1CDzvbY"
   },
   "outputs": [],
   "source": [
    "F, p = stats.f_oneway(data.S1, data.S2, data.S3, data.S4, data.S5, data.S6, data.S7)"
   ]
  },
  {
   "cell_type": "code",
   "execution_count": 17,
   "metadata": {
    "colab": {
     "base_uri": "https://localhost:8080/"
    },
    "executionInfo": {
     "elapsed": 13,
     "status": "ok",
     "timestamp": 1624064944349,
     "user": {
      "displayName": "Dipak Bariya",
      "photoUrl": "https://lh3.googleusercontent.com/a-/AOh14GjNV2sLYPvKe0zWengpon1F21KL6BWxvCqRoxIt=s64",
      "userId": "02959653505330042888"
     },
     "user_tz": -330
    },
    "id": "zSoG5O-40Evr",
    "outputId": "06c5419c-cb85-4289-d288-b9a594532831"
   },
   "outputs": [
    {
     "name": "stdout",
     "output_type": "stream",
     "text": [
      "30.707380065925932 1.555515647933535e-33\n"
     ]
    }
   ],
   "source": [
    "print(F,p)"
   ]
  },
  {
   "cell_type": "markdown",
   "metadata": {
    "id": "yR0xAM2F0KZI"
   },
   "source": [
    ">**CONCLUSION:** p value < alpha, we reject our hypothesis and conclude that mean DS for all activity are different."
   ]
  },
  {
   "cell_type": "code",
   "execution_count": null,
   "metadata": {
    "id": "s2xxVgff0ZY0"
   },
   "outputs": [],
   "source": []
  },
  {
   "cell_type": "markdown",
   "metadata": {
    "id": "pvzcHCY66MDD"
   },
   "source": [
    "**Ho : mean DS for S1 and S2 are same.**"
   ]
  },
  {
   "cell_type": "code",
   "execution_count": 16,
   "metadata": {
    "executionInfo": {
     "elapsed": 617,
     "status": "ok",
     "timestamp": 1624066599111,
     "user": {
      "displayName": "Dipak Bariya",
      "photoUrl": "https://lh3.googleusercontent.com/a-/AOh14GjNV2sLYPvKe0zWengpon1F21KL6BWxvCqRoxIt=s64",
      "userId": "02959653505330042888"
     },
     "user_tz": -330
    },
    "id": "NWfoHG_K6Ua5"
   },
   "outputs": [],
   "source": [
    "F, p = stats.f_oneway(data.S1, data.S2)"
   ]
  },
  {
   "cell_type": "code",
   "execution_count": 17,
   "metadata": {
    "colab": {
     "base_uri": "https://localhost:8080/"
    },
    "executionInfo": {
     "elapsed": 506,
     "status": "ok",
     "timestamp": 1624066611743,
     "user": {
      "displayName": "Dipak Bariya",
      "photoUrl": "https://lh3.googleusercontent.com/a-/AOh14GjNV2sLYPvKe0zWengpon1F21KL6BWxvCqRoxIt=s64",
      "userId": "02959653505330042888"
     },
     "user_tz": -330
    },
    "id": "TnMOt_vX6bnz",
    "outputId": "b85605ad-5b5b-4c60-ab09-31165a90c839"
   },
   "outputs": [
    {
     "name": "stdout",
     "output_type": "stream",
     "text": [
      "9.127680933041765 0.0027812049699246183\n"
     ]
    }
   ],
   "source": [
    "print(F,p)"
   ]
  },
  {
   "cell_type": "code",
   "execution_count": 18,
   "metadata": {
    "colab": {
     "base_uri": "https://localhost:8080/"
    },
    "executionInfo": {
     "elapsed": 652,
     "status": "ok",
     "timestamp": 1624066897313,
     "user": {
      "displayName": "Dipak Bariya",
      "photoUrl": "https://lh3.googleusercontent.com/a-/AOh14GjNV2sLYPvKe0zWengpon1F21KL6BWxvCqRoxIt=s64",
      "userId": "02959653505330042888"
     },
     "user_tz": -330
    },
    "id": "33JZBaA07E1j",
    "outputId": "571d76f2-cc10-47d7-cf85-6f02f912fe48"
   },
   "outputs": [
    {
     "name": "stdout",
     "output_type": "stream",
     "text": [
      "t = -3.0212052120042654\n",
      "p = 0.0027861150849271096\n"
     ]
    }
   ],
   "source": [
    "t1, p1 = stats.ttest_ind(data.S1,data.S2,equal_var=False)\n",
    "print(\"t = \" + str(t1))\n",
    "print(\"p = \" + str(p1))\n"
   ]
  },
  {
   "cell_type": "code",
   "execution_count": null,
   "metadata": {
    "id": "H_F7y6eP7p0q"
   },
   "outputs": [],
   "source": []
  },
  {
   "cell_type": "code",
   "execution_count": 19,
   "metadata": {
    "colab": {
     "base_uri": "https://localhost:8080/"
    },
    "executionInfo": {
     "elapsed": 572,
     "status": "ok",
     "timestamp": 1624066954475,
     "user": {
      "displayName": "Dipak Bariya",
      "photoUrl": "https://lh3.googleusercontent.com/a-/AOh14GjNV2sLYPvKe0zWengpon1F21KL6BWxvCqRoxIt=s64",
      "userId": "02959653505330042888"
     },
     "user_tz": -330
    },
    "id": "oFH7jh-m7qGQ",
    "outputId": "85c28739-1fb9-40cc-8854-a38184d86fb7"
   },
   "outputs": [
    {
     "name": "stdout",
     "output_type": "stream",
     "text": [
      "t = -2.194126268347241\n",
      "p = 0.029160272498447656\n"
     ]
    }
   ],
   "source": [
    "t2, p2 = stats.ttest_ind(data.S1,data.S3,equal_var=False)\n",
    "print(\"t = \" + str(t2))\n",
    "print(\"p = \" + str(p2))\n"
   ]
  },
  {
   "cell_type": "code",
   "execution_count": null,
   "metadata": {
    "id": "LBfdUUy47z2h"
   },
   "outputs": [],
   "source": []
  },
  {
   "cell_type": "code",
   "execution_count": 20,
   "metadata": {
    "colab": {
     "base_uri": "https://localhost:8080/"
    },
    "executionInfo": {
     "elapsed": 905,
     "status": "ok",
     "timestamp": 1624067000322,
     "user": {
      "displayName": "Dipak Bariya",
      "photoUrl": "https://lh3.googleusercontent.com/a-/AOh14GjNV2sLYPvKe0zWengpon1F21KL6BWxvCqRoxIt=s64",
      "userId": "02959653505330042888"
     },
     "user_tz": -330
    },
    "id": "6DN1iJ5Q70OH",
    "outputId": "6c633944-a640-46e6-d3be-1d84a7112783"
   },
   "outputs": [
    {
     "name": "stdout",
     "output_type": "stream",
     "text": [
      "t = 5.766883593296181\n",
      "p = 2.4130126894347376e-08\n"
     ]
    }
   ],
   "source": [
    "t3, p3 = stats.ttest_ind(data.S1,data.S4,equal_var=False)\n",
    "print(\"t = \" + str(t3))\n",
    "print(\"p = \" + str(p3))\n"
   ]
  },
  {
   "cell_type": "code",
   "execution_count": null,
   "metadata": {
    "id": "6_yAdyYZ79Zr"
   },
   "outputs": [],
   "source": []
  },
  {
   "cell_type": "code",
   "execution_count": 21,
   "metadata": {
    "colab": {
     "base_uri": "https://localhost:8080/"
    },
    "executionInfo": {
     "elapsed": 566,
     "status": "ok",
     "timestamp": 1624067025314,
     "user": {
      "displayName": "Dipak Bariya",
      "photoUrl": "https://lh3.googleusercontent.com/a-/AOh14GjNV2sLYPvKe0zWengpon1F21KL6BWxvCqRoxIt=s64",
      "userId": "02959653505330042888"
     },
     "user_tz": -330
    },
    "id": "Dm8FgapT79rM",
    "outputId": "5f4620c0-e2cd-48fb-c6f1-b0e88aa902d4"
   },
   "outputs": [
    {
     "name": "stdout",
     "output_type": "stream",
     "text": [
      "t = 4.238071848702188\n",
      "p = 3.184004091963016e-05\n"
     ]
    }
   ],
   "source": [
    "t4, p4 = stats.ttest_ind(data.S1,data.S5,equal_var=False)\n",
    "print(\"t = \" + str(t4))\n",
    "print(\"p = \" + str(p4))\n"
   ]
  },
  {
   "cell_type": "code",
   "execution_count": null,
   "metadata": {
    "id": "ha2Kqtd58D5U"
   },
   "outputs": [],
   "source": []
  },
  {
   "cell_type": "code",
   "execution_count": 22,
   "metadata": {
    "colab": {
     "base_uri": "https://localhost:8080/"
    },
    "executionInfo": {
     "elapsed": 695,
     "status": "ok",
     "timestamp": 1624067075554,
     "user": {
      "displayName": "Dipak Bariya",
      "photoUrl": "https://lh3.googleusercontent.com/a-/AOh14GjNV2sLYPvKe0zWengpon1F21KL6BWxvCqRoxIt=s64",
      "userId": "02959653505330042888"
     },
     "user_tz": -330
    },
    "id": "Fk9AEviW8ETZ",
    "outputId": "aefc48ee-a780-4c73-e555-d62e3f852492"
   },
   "outputs": [
    {
     "name": "stdout",
     "output_type": "stream",
     "text": [
      "t = -4.837863019604252\n",
      "p = 2.3073814569511547e-06\n"
     ]
    }
   ],
   "source": [
    "t5, p5 = stats.ttest_ind(data.S1,data.S6,equal_var=False)\n",
    "print(\"t = \" + str(t5))\n",
    "print(\"p = \" + str(p5))\n"
   ]
  },
  {
   "cell_type": "code",
   "execution_count": 23,
   "metadata": {
    "colab": {
     "base_uri": "https://localhost:8080/"
    },
    "executionInfo": {
     "elapsed": 1283,
     "status": "ok",
     "timestamp": 1624072042234,
     "user": {
      "displayName": "Dipak Bariya",
      "photoUrl": "https://lh3.googleusercontent.com/a-/AOh14GjNV2sLYPvKe0zWengpon1F21KL6BWxvCqRoxIt=s64",
      "userId": "02959653505330042888"
     },
     "user_tz": -330
    },
    "id": "ON8PWms_O_YR",
    "outputId": "9a2ec17e-f1a8-4e18-a010-6fc2a9be5039"
   },
   "outputs": [
    {
     "name": "stdout",
     "output_type": "stream",
     "text": [
      "t = 2.2792755398939137\n",
      "p = 0.02351703371589662\n"
     ]
    }
   ],
   "source": [
    "t5_1, p5_1 = stats.ttest_ind(data.S1,data.S7,equal_var=False)\n",
    "print(\"t = \" + str(t5_1))\n",
    "print(\"p = \" + str(p5_1))\n"
   ]
  },
  {
   "cell_type": "code",
   "execution_count": 24,
   "metadata": {
    "colab": {
     "base_uri": "https://localhost:8080/"
    },
    "executionInfo": {
     "elapsed": 651,
     "status": "ok",
     "timestamp": 1624067111714,
     "user": {
      "displayName": "Dipak Bariya",
      "photoUrl": "https://lh3.googleusercontent.com/a-/AOh14GjNV2sLYPvKe0zWengpon1F21KL6BWxvCqRoxIt=s64",
      "userId": "02959653505330042888"
     },
     "user_tz": -330
    },
    "id": "eYxmvKxK8P1U",
    "outputId": "97582aca-2947-4b00-b403-c22570521572"
   },
   "outputs": [
    {
     "name": "stdout",
     "output_type": "stream",
     "text": [
      "t = 0.8056456243632913\n",
      "p = 0.42122142203954493\n"
     ]
    }
   ],
   "source": [
    "t6, p6 = stats.ttest_ind(data.S2,data.S3,equal_var=False)\n",
    "print(\"t = \" + str(t6))\n",
    "print(\"p = \" + str(p6))\n"
   ]
  },
  {
   "cell_type": "markdown",
   "metadata": {
    "id": "W3bqXcSx8fQS"
   },
   "source": [
    "p value > alpha, do not reject Ho"
   ]
  },
  {
   "cell_type": "code",
   "execution_count": 25,
   "metadata": {
    "colab": {
     "base_uri": "https://localhost:8080/"
    },
    "executionInfo": {
     "elapsed": 760,
     "status": "ok",
     "timestamp": 1624067169167,
     "user": {
      "displayName": "Dipak Bariya",
      "photoUrl": "https://lh3.googleusercontent.com/a-/AOh14GjNV2sLYPvKe0zWengpon1F21KL6BWxvCqRoxIt=s64",
      "userId": "02959653505330042888"
     },
     "user_tz": -330
    },
    "id": "4KZetPcg8ZQi",
    "outputId": "2550b7c5-9683-4db9-b26e-8157c77a4fb5"
   },
   "outputs": [
    {
     "name": "stdout",
     "output_type": "stream",
     "text": [
      "t = 9.355845762333441\n",
      "p = 5.209566154004606e-18\n"
     ]
    }
   ],
   "source": [
    "t7, p7 = stats.ttest_ind(data.S2,data.S4,equal_var=False)\n",
    "print(\"t = \" + str(t7))\n",
    "print(\"p = \" + str(p7))"
   ]
  },
  {
   "cell_type": "code",
   "execution_count": 26,
   "metadata": {
    "colab": {
     "base_uri": "https://localhost:8080/"
    },
    "executionInfo": {
     "elapsed": 1045,
     "status": "ok",
     "timestamp": 1624067198274,
     "user": {
      "displayName": "Dipak Bariya",
      "photoUrl": "https://lh3.googleusercontent.com/a-/AOh14GjNV2sLYPvKe0zWengpon1F21KL6BWxvCqRoxIt=s64",
      "userId": "02959653505330042888"
     },
     "user_tz": -330
    },
    "id": "VnRBVA5V8nML",
    "outputId": "6263fafb-5f4f-49da-fd3a-3073b601deeb"
   },
   "outputs": [
    {
     "name": "stdout",
     "output_type": "stream",
     "text": [
      "t = 9.355845762333441\n",
      "p = 5.209566154004606e-18\n"
     ]
    }
   ],
   "source": [
    "t8, p8 = stats.ttest_ind(data.S2,data.S4,equal_var=False)\n",
    "print(\"t = \" + str(t8))\n",
    "print(\"p = \" + str(p8))"
   ]
  },
  {
   "cell_type": "code",
   "execution_count": 27,
   "metadata": {
    "colab": {
     "base_uri": "https://localhost:8080/"
    },
    "executionInfo": {
     "elapsed": 487,
     "status": "ok",
     "timestamp": 1624067221290,
     "user": {
      "displayName": "Dipak Bariya",
      "photoUrl": "https://lh3.googleusercontent.com/a-/AOh14GjNV2sLYPvKe0zWengpon1F21KL6BWxvCqRoxIt=s64",
      "userId": "02959653505330042888"
     },
     "user_tz": -330
    },
    "id": "4hQgyT7r8tig",
    "outputId": "490ab9ed-1df0-449d-c9be-6dad471fde40"
   },
   "outputs": [
    {
     "name": "stdout",
     "output_type": "stream",
     "text": [
      "t = 7.446186187112672\n",
      "p = 1.711733525252076e-12\n"
     ]
    }
   ],
   "source": [
    "t9, p9 = stats.ttest_ind(data.S2,data.S5,equal_var=False)\n",
    "print(\"t = \" + str(t9))\n",
    "print(\"p = \" + str(p9))"
   ]
  },
  {
   "cell_type": "code",
   "execution_count": 28,
   "metadata": {
    "colab": {
     "base_uri": "https://localhost:8080/"
    },
    "executionInfo": {
     "elapsed": 691,
     "status": "ok",
     "timestamp": 1624072160405,
     "user": {
      "displayName": "Dipak Bariya",
      "photoUrl": "https://lh3.googleusercontent.com/a-/AOh14GjNV2sLYPvKe0zWengpon1F21KL6BWxvCqRoxIt=s64",
      "userId": "02959653505330042888"
     },
     "user_tz": -330
    },
    "id": "UZoGPSLc8zLt",
    "outputId": "6846c324-ec84-483a-8f5e-0a5f68b80415"
   },
   "outputs": [
    {
     "name": "stdout",
     "output_type": "stream",
     "text": [
      "t = -2.154618698383856\n",
      "p = 0.03217692119263426\n"
     ]
    }
   ],
   "source": [
    "t10, p10 = stats.ttest_ind(data.S2,data.S6,equal_var=False)\n",
    "print(\"t = \" + str(t10))\n",
    "print(\"p = \" + str(p10))"
   ]
  },
  {
   "cell_type": "code",
   "execution_count": 29,
   "metadata": {
    "colab": {
     "base_uri": "https://localhost:8080/"
    },
    "executionInfo": {
     "elapsed": 746,
     "status": "ok",
     "timestamp": 1624072179416,
     "user": {
      "displayName": "Dipak Bariya",
      "photoUrl": "https://lh3.googleusercontent.com/a-/AOh14GjNV2sLYPvKe0zWengpon1F21KL6BWxvCqRoxIt=s64",
      "userId": "02959653505330042888"
     },
     "user_tz": -330
    },
    "id": "bZ9be1LK80Hv",
    "outputId": "c6c8aaca-ff39-43dd-cb3b-23ddd8f4e1cd"
   },
   "outputs": [
    {
     "name": "stdout",
     "output_type": "stream",
     "text": [
      "t = 8.312463159924395\n",
      "p = 6.215900842395273e-15\n"
     ]
    }
   ],
   "source": [
    "t11, p11 = stats.ttest_ind(data.S3,data.S4,equal_var=False)\n",
    "print(\"t = \" + str(t11))\n",
    "print(\"p = \" + str(p11))"
   ]
  },
  {
   "cell_type": "code",
   "execution_count": 30,
   "metadata": {
    "colab": {
     "base_uri": "https://localhost:8080/"
    },
    "executionInfo": {
     "elapsed": 411,
     "status": "ok",
     "timestamp": 1624072192875,
     "user": {
      "displayName": "Dipak Bariya",
      "photoUrl": "https://lh3.googleusercontent.com/a-/AOh14GjNV2sLYPvKe0zWengpon1F21KL6BWxvCqRoxIt=s64",
      "userId": "02959653505330042888"
     },
     "user_tz": -330
    },
    "id": "U9n_ubBn80eg",
    "outputId": "5d47021e-36dd-4ec3-8d5b-6689254fc2de"
   },
   "outputs": [
    {
     "name": "stdout",
     "output_type": "stream",
     "text": [
      "t = 6.536463869015271\n",
      "p = 3.6429633210505814e-10\n"
     ]
    }
   ],
   "source": [
    "t12, p12 = stats.ttest_ind(data.S3,data.S5,equal_var=False)\n",
    "print(\"t = \" + str(t12))\n",
    "print(\"p = \" + str(p12))"
   ]
  },
  {
   "cell_type": "code",
   "execution_count": 31,
   "metadata": {
    "colab": {
     "base_uri": "https://localhost:8080/"
    },
    "executionInfo": {
     "elapsed": 500,
     "status": "ok",
     "timestamp": 1624072260904,
     "user": {
      "displayName": "Dipak Bariya",
      "photoUrl": "https://lh3.googleusercontent.com/a-/AOh14GjNV2sLYPvKe0zWengpon1F21KL6BWxvCqRoxIt=s64",
      "userId": "02959653505330042888"
     },
     "user_tz": -330
    },
    "id": "oHNqJAJt80hP",
    "outputId": "8fd96afd-e71f-4d93-cfee-a23746f575cc"
   },
   "outputs": [
    {
     "name": "stdout",
     "output_type": "stream",
     "text": [
      "t = -2.8478357685043276\n",
      "p = 0.004774188916400217\n"
     ]
    }
   ],
   "source": [
    "t13, p13 = stats.ttest_ind(data.S3,data.S6,equal_var=False)\n",
    "print(\"t = \" + str(t13))\n",
    "print(\"p = \" + str(p13))"
   ]
  },
  {
   "cell_type": "code",
   "execution_count": 32,
   "metadata": {
    "colab": {
     "base_uri": "https://localhost:8080/"
    },
    "executionInfo": {
     "elapsed": 697,
     "status": "ok",
     "timestamp": 1624072291410,
     "user": {
      "displayName": "Dipak Bariya",
      "photoUrl": "https://lh3.googleusercontent.com/a-/AOh14GjNV2sLYPvKe0zWengpon1F21KL6BWxvCqRoxIt=s64",
      "userId": "02959653505330042888"
     },
     "user_tz": -330
    },
    "id": "U8Hlbiw780kJ",
    "outputId": "160ef759-e6b4-49e6-f293-01dae0d4b920"
   },
   "outputs": [
    {
     "name": "stdout",
     "output_type": "stream",
     "text": [
      "t = -1.2094345991844409\n",
      "p = 0.2276683777333572\n"
     ]
    }
   ],
   "source": [
    "t14, p14 = stats.ttest_ind(data.S4,data.S5,equal_var=False)\n",
    "print(\"t = \" + str(t14))\n",
    "print(\"p = \" + str(p14))"
   ]
  },
  {
   "cell_type": "code",
   "execution_count": 33,
   "metadata": {
    "colab": {
     "base_uri": "https://localhost:8080/"
    },
    "executionInfo": {
     "elapsed": 509,
     "status": "ok",
     "timestamp": 1624072316478,
     "user": {
      "displayName": "Dipak Bariya",
      "photoUrl": "https://lh3.googleusercontent.com/a-/AOh14GjNV2sLYPvKe0zWengpon1F21KL6BWxvCqRoxIt=s64",
      "userId": "02959653505330042888"
     },
     "user_tz": -330
    },
    "id": "JLCxcgeD80nU",
    "outputId": "4d45ff76-f177-40d6-f03e-7b1833cd065c"
   },
   "outputs": [
    {
     "name": "stdout",
     "output_type": "stream",
     "text": [
      "t = -10.7643570786531\n",
      "p = 2.209628699745904e-22\n"
     ]
    }
   ],
   "source": [
    "t15, p15 = stats.ttest_ind(data.S4,data.S6,equal_var=False)\n",
    "print(\"t = \" + str(t15))\n",
    "print(\"p = \" + str(p15))"
   ]
  },
  {
   "cell_type": "code",
   "execution_count": 34,
   "metadata": {
    "colab": {
     "base_uri": "https://localhost:8080/"
    },
    "executionInfo": {
     "elapsed": 493,
     "status": "ok",
     "timestamp": 1624072356333,
     "user": {
      "displayName": "Dipak Bariya",
      "photoUrl": "https://lh3.googleusercontent.com/a-/AOh14GjNV2sLYPvKe0zWengpon1F21KL6BWxvCqRoxIt=s64",
      "userId": "02959653505330042888"
     },
     "user_tz": -330
    },
    "id": "285iD7cF80qk",
    "outputId": "3b8e1ca9-4ac1-401b-e081-f60d793f2666"
   },
   "outputs": [
    {
     "name": "stdout",
     "output_type": "stream",
     "text": [
      "t = -8.936431027643433\n",
      "p = 9.417052139785753e-17\n"
     ]
    }
   ],
   "source": [
    "t16, p16 = stats.ttest_ind(data.S5,data.S6,equal_var=False)\n",
    "print(\"t = \" + str(t16))\n",
    "print(\"p = \" + str(p16))"
   ]
  },
  {
   "cell_type": "code",
   "execution_count": 37,
   "metadata": {},
   "outputs": [
    {
     "name": "stdout",
     "output_type": "stream",
     "text": [
      "t = 5.186233894700919\n",
      "p = 4.680048553115187e-07\n"
     ]
    }
   ],
   "source": [
    "t17, p17 = stats.ttest_ind(data.S2,data.S7,equal_var=False)\n",
    "print(\"t = \" + str(t17))\n",
    "print(\"p = \" + str(p17))"
   ]
  },
  {
   "cell_type": "code",
   "execution_count": 38,
   "metadata": {},
   "outputs": [
    {
     "name": "stdout",
     "output_type": "stream",
     "text": [
      "t = 4.381922558082523\n",
      "p = 1.7674766083790396e-05\n"
     ]
    }
   ],
   "source": [
    "t18, p18 = stats.ttest_ind(data.S3,data.S7,equal_var=False)\n",
    "print(\"t = \" + str(t18))\n",
    "print(\"p = \" + str(p18))"
   ]
  },
  {
   "cell_type": "code",
   "execution_count": 39,
   "metadata": {},
   "outputs": [
    {
     "name": "stdout",
     "output_type": "stream",
     "text": [
      "t = -2.9572802457954044\n",
      "p = 0.0034188804851024985\n"
     ]
    }
   ],
   "source": [
    "t19, p19 = stats.ttest_ind(data.S4,data.S7,equal_var=False)\n",
    "print(\"t = \" + str(t19))\n",
    "print(\"p = \" + str(p19))"
   ]
  },
  {
   "cell_type": "code",
   "execution_count": 40,
   "metadata": {},
   "outputs": [
    {
     "name": "stdout",
     "output_type": "stream",
     "text": [
      "t = -1.7130453659655904\n",
      "p = 0.08796493404172077\n"
     ]
    }
   ],
   "source": [
    "t20, p20 = stats.ttest_ind(data.S5,data.S7,equal_var=False)\n",
    "print(\"t = \" + str(t20))\n",
    "print(\"p = \" + str(p20))"
   ]
  },
  {
   "cell_type": "code",
   "execution_count": 41,
   "metadata": {},
   "outputs": [
    {
     "name": "stdout",
     "output_type": "stream",
     "text": [
      "t = 6.761507763111792\n",
      "p = 9.9782458962085e-11\n"
     ]
    }
   ],
   "source": [
    "t21, p21 = stats.ttest_ind(data.S6,data.S7,equal_var=False)\n",
    "print(\"t = \" + str(t21))\n",
    "print(\"p = \" + str(p21))"
   ]
  }
 ],
 "metadata": {
  "colab": {
   "authorship_tag": "ABX9TyO9DjO/+Ce39syozz/nB7rs",
   "collapsed_sections": [],
   "mount_file_id": "1Cr2ILwLxw3NOVSnMlVSN3oAOPKbLm0YO",
   "name": "Drudgery Analysis.ipynb",
   "provenance": []
  },
  "kernelspec": {
   "display_name": "Python 3",
   "language": "python",
   "name": "python3"
  },
  "language_info": {
   "codemirror_mode": {
    "name": "ipython",
    "version": 3
   },
   "file_extension": ".py",
   "mimetype": "text/x-python",
   "name": "python",
   "nbconvert_exporter": "python",
   "pygments_lexer": "ipython3",
   "version": "3.8.8"
  }
 },
 "nbformat": 4,
 "nbformat_minor": 1
}
